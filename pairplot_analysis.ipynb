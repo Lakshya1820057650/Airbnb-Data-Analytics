{
 "cells": [
  {
   "cell_type": "code",
   "execution_count": null,
   "id": "686cccfe",
   "metadata": {},
   "outputs": [],
   "source": [
    "import seaborn as sns\n",
    "import matplotlib.pyplot as plt\n",
    "import pandas as pd\n",
    "\n",
    "# Load the data\n",
    "df = pd.read_csv(\"Airbnb.csv\")\n",
    "\n",
    "# Select relevant columns for pairplot\n",
    "selected_features = [\"price\", \"number_of_reviews\", \"minimum_nights\", \"bedrooms\", \"accommodates\"]\n",
    "\n",
    "# Create the pairplot\n",
    "sns.set(style=\"whitegrid\")\n",
    "pairplot_fig = sns.pairplot(df[selected_features], corner=True, plot_kws={\"color\": \"orange\", \"alpha\": 0.7})\n",
    "\n",
    "# Add title\n",
    "pairplot_fig.fig.suptitle(\"Pairplot of Selected Airbnb Features\", y=1.02)\n",
    "\n",
    "# Save the figure\n",
    "pairplot_fig.savefig(\"pairplot_analysis.png\", dpi=300)\n",
    "plt.show()\n"
   ]
  }
 ],
 "metadata": {
  "language_info": {
   "name": "python"
  }
 },
 "nbformat": 4,
 "nbformat_minor": 5
}
